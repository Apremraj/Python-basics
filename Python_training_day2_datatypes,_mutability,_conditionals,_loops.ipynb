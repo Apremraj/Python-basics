{
  "nbformat": 4,
  "nbformat_minor": 0,
  "metadata": {
    "colab": {
      "name": "Python training day2- datatypes, mutability, conditionals, loops",
      "provenance": [],
      "collapsed_sections": [],
      "authorship_tag": "ABX9TyNC6N/ME7tWLaEKTZccMoMN",
      "include_colab_link": true
    },
    "kernelspec": {
      "name": "python3",
      "display_name": "Python 3"
    }
  },
  "cells": [
    {
      "cell_type": "markdown",
      "metadata": {
        "id": "view-in-github",
        "colab_type": "text"
      },
      "source": [
        "<a href=\"https://colab.research.google.com/github/just-joseph/Python-basics/blob/master/Python_training_day2_datatypes%2C_mutability%2C_conditionals%2C_loops.ipynb\" target=\"_parent\"><img src=\"https://colab.research.google.com/assets/colab-badge.svg\" alt=\"Open In Colab\"/></a>"
      ]
    },
    {
      "cell_type": "code",
      "metadata": {
        "id": "vL6_C95adiVd",
        "colab_type": "code",
        "colab": {
          "base_uri": "https://localhost:8080/",
          "height": 35
        },
        "outputId": "f868e674-543e-450e-c5c3-e8ecf2ca1533"
      },
      "source": [
        "print(\"Hello World!\")"
      ],
      "execution_count": 1,
      "outputs": [
        {
          "output_type": "stream",
          "text": [
            "Hello World!\n"
          ],
          "name": "stdout"
        }
      ]
    },
    {
      "cell_type": "markdown",
      "metadata": {
        "id": "ad7itwXqeymA",
        "colab_type": "text"
      },
      "source": [
        "Arithmetic"
      ]
    },
    {
      "cell_type": "code",
      "metadata": {
        "id": "MtLbmhUDezrq",
        "colab_type": "code",
        "colab": {
          "base_uri": "https://localhost:8080/",
          "height": 35
        },
        "outputId": "51f75fbe-1fb9-4568-c54e-4a9fe24bf4dd"
      },
      "source": [
        "print(1+1)"
      ],
      "execution_count": 2,
      "outputs": [
        {
          "output_type": "stream",
          "text": [
            "2\n"
          ],
          "name": "stdout"
        }
      ]
    },
    {
      "cell_type": "code",
      "metadata": {
        "id": "gfkOEGkWe1rT",
        "colab_type": "code",
        "colab": {
          "base_uri": "https://localhost:8080/",
          "height": 35
        },
        "outputId": "4babfe5a-e236-4a96-ff68-9f533587c431"
      },
      "source": [
        "1+5  # this won't be printed. Better to use the print function everyone\n",
        "2+3"
      ],
      "execution_count": 3,
      "outputs": [
        {
          "output_type": "execute_result",
          "data": {
            "text/plain": [
              "5"
            ]
          },
          "metadata": {
            "tags": []
          },
          "execution_count": 3
        }
      ]
    },
    {
      "cell_type": "code",
      "metadata": {
        "id": "0CisLhl1e6sk",
        "colab_type": "code",
        "colab": {
          "base_uri": "https://localhost:8080/",
          "height": 87
        },
        "outputId": "3767799b-2f8e-4727-eede-a5d15219b924"
      },
      "source": [
        "%time print(1+134)  # %time outputs the time taken to run this LINE of code\n",
        "print(2+343)"
      ],
      "execution_count": 4,
      "outputs": [
        {
          "output_type": "stream",
          "text": [
            "135\n",
            "CPU times: user 966 µs, sys: 0 ns, total: 966 µs\n",
            "Wall time: 823 µs\n",
            "345\n"
          ],
          "name": "stdout"
        }
      ]
    },
    {
      "cell_type": "code",
      "metadata": {
        "id": "QwkhFVHNfA6j",
        "colab_type": "code",
        "colab": {
          "base_uri": "https://localhost:8080/",
          "height": 87
        },
        "outputId": "d8952ce8-74ab-4517-efd0-b06b484731af"
      },
      "source": [
        "%%time \n",
        "print(1+134)  # %%time outputs the time taken to run this whole CELL of code\n",
        "print(2+343)"
      ],
      "execution_count": 5,
      "outputs": [
        {
          "output_type": "stream",
          "text": [
            "135\n",
            "345\n",
            "CPU times: user 1.06 ms, sys: 0 ns, total: 1.06 ms\n",
            "Wall time: 882 µs\n"
          ],
          "name": "stdout"
        }
      ]
    },
    {
      "cell_type": "code",
      "metadata": {
        "id": "lsrlJas4fGk4",
        "colab_type": "code",
        "colab": {
          "base_uri": "https://localhost:8080/",
          "height": 69
        },
        "outputId": "e2804770-fc60-452f-aa94-55311de24958"
      },
      "source": [
        "print(2-3)\n",
        "print(2*3)\n",
        "print(2/3) # Python automatically produces a float (or decimal)"
      ],
      "execution_count": 6,
      "outputs": [
        {
          "output_type": "stream",
          "text": [
            "-1\n",
            "6\n",
            "0.6666666666666666\n"
          ],
          "name": "stdout"
        }
      ]
    },
    {
      "cell_type": "code",
      "metadata": {
        "id": "6ThGqWL2fLjq",
        "colab_type": "code",
        "colab": {
          "base_uri": "https://localhost:8080/",
          "height": 35
        },
        "outputId": "bc4cc049-7431-4e35-d083-dd6fd2d6156d"
      },
      "source": [
        "print(type(2))"
      ],
      "execution_count": 7,
      "outputs": [
        {
          "output_type": "stream",
          "text": [
            "<class 'int'>\n"
          ],
          "name": "stdout"
        }
      ]
    },
    {
      "cell_type": "markdown",
      "metadata": {
        "id": "KIZs7pvsfQiU",
        "colab_type": "text"
      },
      "source": [
        "Abs, floor, modulus and power"
      ]
    },
    {
      "cell_type": "code",
      "metadata": {
        "id": "hltnEzkCfSau",
        "colab_type": "code",
        "colab": {
          "base_uri": "https://localhost:8080/",
          "height": 35
        },
        "outputId": "2ba79103-20fb-41e0-8c79-f2ec91600c09"
      },
      "source": [
        "# returns absolute value of the number\n",
        "abs(-2.4)"
      ],
      "execution_count": 8,
      "outputs": [
        {
          "output_type": "execute_result",
          "data": {
            "text/plain": [
              "2.4"
            ]
          },
          "metadata": {
            "tags": []
          },
          "execution_count": 8
        }
      ]
    },
    {
      "cell_type": "code",
      "metadata": {
        "id": "e_c47btBfUA0",
        "colab_type": "code",
        "colab": {
          "base_uri": "https://localhost:8080/",
          "height": 35
        },
        "outputId": "5d25ee52-7e63-46e4-836f-18db4158b982"
      },
      "source": [
        "# Quotient\n",
        "7//5"
      ],
      "execution_count": 9,
      "outputs": [
        {
          "output_type": "execute_result",
          "data": {
            "text/plain": [
              "1"
            ]
          },
          "metadata": {
            "tags": []
          },
          "execution_count": 9
        }
      ]
    },
    {
      "cell_type": "code",
      "metadata": {
        "id": "aeejBM0AfWJx",
        "colab_type": "code",
        "colab": {
          "base_uri": "https://localhost:8080/",
          "height": 35
        },
        "outputId": "0340ccfd-eb6b-4e48-83e4-39aea7cf3dba"
      },
      "source": [
        "# Reminder\n",
        "7%5"
      ],
      "execution_count": 10,
      "outputs": [
        {
          "output_type": "execute_result",
          "data": {
            "text/plain": [
              "2"
            ]
          },
          "metadata": {
            "tags": []
          },
          "execution_count": 10
        }
      ]
    },
    {
      "cell_type": "code",
      "metadata": {
        "id": "Hc8FbpSsfYWM",
        "colab_type": "code",
        "colab": {
          "base_uri": "https://localhost:8080/",
          "height": 35
        },
        "outputId": "ce5d995c-e9fe-4dd8-e227-94ed3874ca74"
      },
      "source": [
        "# Power- 2 raised to 3\n",
        "2 ** 3"
      ],
      "execution_count": 11,
      "outputs": [
        {
          "output_type": "execute_result",
          "data": {
            "text/plain": [
              "8"
            ]
          },
          "metadata": {
            "tags": []
          },
          "execution_count": 11
        }
      ]
    },
    {
      "cell_type": "code",
      "metadata": {
        "id": "XkEfTTNGfZpM",
        "colab_type": "code",
        "colab": {
          "base_uri": "https://localhost:8080/",
          "height": 35
        },
        "outputId": "1cbe36a6-b2bb-4409-cbd0-28127794275d"
      },
      "source": [
        "# Usual mathematical precedence applies. Use brackets if you want to change the execution order\n",
        "print( (1 + 2**2) * 3 / 6)"
      ],
      "execution_count": 12,
      "outputs": [
        {
          "output_type": "stream",
          "text": [
            "2.5\n"
          ],
          "name": "stdout"
        }
      ]
    },
    {
      "cell_type": "markdown",
      "metadata": {
        "id": "ajwlOSdQfcoN",
        "colab_type": "text"
      },
      "source": [
        "Typecast"
      ]
    },
    {
      "cell_type": "code",
      "metadata": {
        "id": "CNooPsAffiPH",
        "colab_type": "code",
        "colab": {
          "base_uri": "https://localhost:8080/",
          "height": 52
        },
        "outputId": "7b07ffd3-4872-4157-e117-459a3865e3c9"
      },
      "source": [
        "# Division by defaut produces float (decimal numbers) in python\n",
        "print(3/3)\n",
        "print(2/3)"
      ],
      "execution_count": 13,
      "outputs": [
        {
          "output_type": "stream",
          "text": [
            "1.0\n",
            "0.6666666666666666\n"
          ],
          "name": "stdout"
        }
      ]
    },
    {
      "cell_type": "code",
      "metadata": {
        "id": "3fuv5a8xfltF",
        "colab_type": "code",
        "colab": {}
      },
      "source": [
        ""
      ],
      "execution_count": null,
      "outputs": []
    }
  ]
}