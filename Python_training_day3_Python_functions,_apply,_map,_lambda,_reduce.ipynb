{
  "nbformat": 4,
  "nbformat_minor": 0,
  "metadata": {
    "colab": {
      "name": "Python training day3- Python functions, apply, map, lambda, reduce",
      "provenance": [],
      "collapsed_sections": [],
      "authorship_tag": "ABX9TyOpHvX2S06orhv9+vfaU3i4",
      "include_colab_link": true
    },
    "kernelspec": {
      "name": "python3",
      "display_name": "Python 3"
    }
  },
  "cells": [
    {
      "cell_type": "markdown",
      "metadata": {
        "id": "view-in-github",
        "colab_type": "text"
      },
      "source": [
        "<a href=\"https://colab.research.google.com/github/just-joseph/Python-basics/blob/master/Python_training_day3_Python_functions%2C_apply%2C_map%2C_lambda%2C_reduce.ipynb\" target=\"_parent\"><img src=\"https://colab.research.google.com/assets/colab-badge.svg\" alt=\"Open In Colab\"/></a>"
      ]
    },
    {
      "cell_type": "code",
      "metadata": {
        "id": "l65T2cLyz1H6",
        "colab_type": "code",
        "colab": {
          "base_uri": "https://localhost:8080/",
          "height": 35
        },
        "outputId": "507921d7-e157-4f53-f2d8-89c900caea14"
      },
      "source": [
        "# No return datatype, no parameter datatype, just the 'def' keyword, function name and parameters.\n",
        "def my_first_function():\n",
        "    print('Hello world!')\n",
        "\n",
        "# Calling a function\n",
        "my_first_function()"
      ],
      "execution_count": 1,
      "outputs": [
        {
          "output_type": "stream",
          "text": [
            "Hello world!\n"
          ],
          "name": "stdout"
        }
      ]
    },
    {
      "cell_type": "code",
      "metadata": {
        "id": "pp-bpiPOz4_N",
        "colab_type": "code",
        "colab": {
          "base_uri": "https://localhost:8080/",
          "height": 35
        },
        "outputId": "725c42d5-5567-4877-c053-71255612ae50"
      },
      "source": [
        "print(type(my_first_function))"
      ],
      "execution_count": 2,
      "outputs": [
        {
          "output_type": "stream",
          "text": [
            "<class 'function'>\n"
          ],
          "name": "stdout"
        }
      ]
    },
    {
      "cell_type": "code",
      "metadata": {
        "id": "SjAYVoMx0EQ2",
        "colab_type": "code",
        "colab": {
          "base_uri": "https://localhost:8080/",
          "height": 35
        },
        "outputId": "c0fdf8a9-b20e-473c-e1cd-370d7b8e9ac6"
      },
      "source": [
        "# Passing parameters to function\n",
        "def func2(name1, name2):\n",
        "    print(name1+ ' vs '+ name2)\n",
        "\n",
        "func2('Batman', 'Superman')"
      ],
      "execution_count": 3,
      "outputs": [
        {
          "output_type": "stream",
          "text": [
            "Batman vs Superman\n"
          ],
          "name": "stdout"
        }
      ]
    },
    {
      "cell_type": "code",
      "metadata": {
        "id": "jfCCRdKX0Hri",
        "colab_type": "code",
        "colab": {
          "base_uri": "https://localhost:8080/",
          "height": 35
        },
        "outputId": "f1e533d9-ae95-4239-b1d4-8c5dca9ca83f"
      },
      "source": [
        "def func3(name1, name2):\n",
        "    return (name1.strip().lower()+ ' vs '+ name2)\n",
        "    print(5) # This wont be executed\n",
        "\n",
        "output= func3('BatmaN   ', 'Superman')\n",
        "print(output)"
      ],
      "execution_count": 4,
      "outputs": [
        {
          "output_type": "stream",
          "text": [
            "batman vs Superman\n"
          ],
          "name": "stdout"
        }
      ]
    },
    {
      "cell_type": "markdown",
      "metadata": {
        "id": "YJr5Lbdf0UKo",
        "colab_type": "text"
      },
      "source": [
        "Keyword arguments"
      ]
    },
    {
      "cell_type": "code",
      "metadata": {
        "id": "s8l5QZAJ0LYT",
        "colab_type": "code",
        "colab": {}
      },
      "source": [
        "def my_fancy_calculation(first, second, third):\n",
        "    return first + second - third "
      ],
      "execution_count": 5,
      "outputs": []
    },
    {
      "cell_type": "code",
      "metadata": {
        "id": "OBmhiO_a0Oh6",
        "colab_type": "code",
        "colab": {
          "base_uri": "https://localhost:8080/",
          "height": 35
        },
        "outputId": "2422fdd3-8cb3-49bf-df9e-ecaa65243238"
      },
      "source": [
        "# Without specifying parameter variables, it goes by natural order. i.e. first takes 3, second takes 2 and third takes 1\n",
        "print(my_fancy_calculation(3, 2, 1))"
      ],
      "execution_count": 6,
      "outputs": [
        {
          "output_type": "stream",
          "text": [
            "4\n"
          ],
          "name": "stdout"
        }
      ]
    },
    {
      "cell_type": "code",
      "metadata": {
        "id": "ObzZEP7I0SEx",
        "colab_type": "code",
        "colab": {
          "base_uri": "https://localhost:8080/",
          "height": 35
        },
        "outputId": "f618266c-98bd-479f-a160-4f8330c48a28"
      },
      "source": [
        "# specifying argument by keyword. Avoids confusion\n",
        "print(my_fancy_calculation(first=3, second=2, third=1))"
      ],
      "execution_count": 7,
      "outputs": [
        {
          "output_type": "stream",
          "text": [
            "4\n"
          ],
          "name": "stdout"
        }
      ]
    },
    {
      "cell_type": "code",
      "metadata": {
        "id": "4rP2ohcQ0g3n",
        "colab_type": "code",
        "colab": {
          "base_uri": "https://localhost:8080/",
          "height": 35
        },
        "outputId": "0c1b55ed-32f3-4e23-e2af-c569a42550a7"
      },
      "source": [
        "# With keyword arguments you can mix the order\n",
        "print(my_fancy_calculation(third=1, first=3, second=2))"
      ],
      "execution_count": 8,
      "outputs": [
        {
          "output_type": "stream",
          "text": [
            "4\n"
          ],
          "name": "stdout"
        }
      ]
    },
    {
      "cell_type": "code",
      "metadata": {
        "id": "GI64kF2A0h-W",
        "colab_type": "code",
        "colab": {
          "base_uri": "https://localhost:8080/",
          "height": 185
        },
        "outputId": "25ca01e9-332f-4a0e-d2bc-1918d8fe47d7"
      },
      "source": [
        "# You can mix arguments and keyword arguments but you have to start with keyword arguments\n",
        "print(my_fancy_calculation(3, first=1, second=2))"
      ],
      "execution_count": 9,
      "outputs": [
        {
          "output_type": "error",
          "ename": "TypeError",
          "evalue": "ignored",
          "traceback": [
            "\u001b[0;31m---------------------------------------------------------------------------\u001b[0m",
            "\u001b[0;31mTypeError\u001b[0m                                 Traceback (most recent call last)",
            "\u001b[0;32m<ipython-input-9-26ccd4b1b34e>\u001b[0m in \u001b[0;36m<module>\u001b[0;34m()\u001b[0m\n\u001b[1;32m      1\u001b[0m \u001b[0;31m# You can mix arguments and keyword arguments but you have to start with keyword arguments\u001b[0m\u001b[0;34m\u001b[0m\u001b[0;34m\u001b[0m\u001b[0;34m\u001b[0m\u001b[0m\n\u001b[0;32m----> 2\u001b[0;31m \u001b[0mprint\u001b[0m\u001b[0;34m(\u001b[0m\u001b[0mmy_fancy_calculation\u001b[0m\u001b[0;34m(\u001b[0m\u001b[0;36m3\u001b[0m\u001b[0;34m,\u001b[0m \u001b[0mfirst\u001b[0m\u001b[0;34m=\u001b[0m\u001b[0;36m1\u001b[0m\u001b[0;34m,\u001b[0m \u001b[0msecond\u001b[0m\u001b[0;34m=\u001b[0m\u001b[0;36m2\u001b[0m\u001b[0;34m)\u001b[0m\u001b[0;34m)\u001b[0m\u001b[0;34m\u001b[0m\u001b[0;34m\u001b[0m\u001b[0m\n\u001b[0m",
            "\u001b[0;31mTypeError\u001b[0m: my_fancy_calculation() got multiple values for argument 'first'"
          ]
        }
      ]
    },
    {
      "cell_type": "markdown",
      "metadata": {
        "id": "opeIl4Eh06Kz",
        "colab_type": "text"
      },
      "source": [
        "### Default arguments"
      ]
    },
    {
      "cell_type": "code",
      "metadata": {
        "id": "I5y_vxf80r-w",
        "colab_type": "code",
        "colab": {}
      },
      "source": [
        "def create_person_info(name, age, job=None, salary=300):\n",
        "    info = {'name': name, 'age': age, 'salary': salary}\n",
        "    \n",
        "    # Add 'job' key only if it's provided as parameter\n",
        "    if job:  \n",
        "        info.update(dict(job=job))\n",
        "        \n",
        "    return info\n",
        "\n",
        "person1 = create_person_info('John Doe', 82)  # use default values for job and salary\n",
        "person2 = create_person_info('Lisa Doe', 22, 'hacker', 10000)\n",
        "print(person1)\n",
        "print(person2)"
      ],
      "execution_count": null,
      "outputs": []
    },
    {
      "cell_type": "markdown",
      "metadata": {
        "id": "8tsLFLAW1FeN",
        "colab_type": "text"
      },
      "source": [
        "Don't use mutable objects as default arguments! Python’s default arguments are evaluated once when the function is defined, not each time the function is called. This means that if you use a mutable default argument and mutate it, you will have mutated that object for all future calls to the function as well."
      ]
    },
    {
      "cell_type": "code",
      "metadata": {
        "id": "XpwP6k3108r9",
        "colab_type": "code",
        "colab": {}
      },
      "source": [
        "def append_if_multiple_of_five(number, magical_list=[]):\n",
        "    if number % 5 == 0:\n",
        "        magical_list.append(number)\n",
        "    return magical_list\n",
        "\n",
        "print(append_if_multiple_of_five(100))\n",
        "print(append_if_multiple_of_five(105))\n",
        "print(append_if_multiple_of_five(123))\n",
        "print(append_if_multiple_of_five(123, []))\n",
        "# print(append_if_multiple_of_five(125, [103]))\n",
        "print(append_if_multiple_of_five(123))"
      ],
      "execution_count": null,
      "outputs": []
    },
    {
      "cell_type": "code",
      "metadata": {
        "id": "D_XUMtEY1NKa",
        "colab_type": "code",
        "colab": {}
      },
      "source": [
        "def append_if_multiple_of_five(number, magical_list=None):\n",
        "    if not magical_list:\n",
        "        magical_list = []\n",
        "    if number % 5 == 0:\n",
        "        magical_list.append(number)\n",
        "    return magical_list\n",
        "\n",
        "print(append_if_multiple_of_five(100))\n",
        "print(append_if_multiple_of_five(105))\n",
        "print(append_if_multiple_of_five(123))\n",
        "print(append_if_multiple_of_five(123, []))\n",
        "# print(append_if_multiple_of_five(125, [103]))\n",
        "print(append_if_multiple_of_five(123))"
      ],
      "execution_count": null,
      "outputs": []
    },
    {
      "cell_type": "markdown",
      "metadata": {
        "id": "ax_xQcxSCrng",
        "colab_type": "text"
      },
      "source": [
        "### List comprehension"
      ]
    },
    {
      "cell_type": "code",
      "metadata": {
        "id": "MS2SLxBU1O0v",
        "colab_type": "code",
        "colab": {
          "base_uri": "https://localhost:8080/",
          "height": 35
        },
        "outputId": "2f708ecc-7ca1-43e7-f73e-9398b5b7fe73"
      },
      "source": [
        "Celsius = [39.2, 36.5, 37.3, 37.8]\n",
        "Fahrenheit = [ ((float(9)/5)*x + 32) for x in Celsius ]\n",
        "print(Fahrenheit)"
      ],
      "execution_count": 10,
      "outputs": [
        {
          "output_type": "stream",
          "text": [
            "[102.56, 97.7, 99.14, 100.03999999999999]\n"
          ],
          "name": "stdout"
        }
      ]
    },
    {
      "cell_type": "code",
      "metadata": {
        "id": "FXgGrsEzCuqC",
        "colab_type": "code",
        "colab": {
          "base_uri": "https://localhost:8080/",
          "height": 195
        },
        "outputId": "4bbcf6f8-c95b-4aed-ba41-fc1e11d96007"
      },
      "source": [
        "[(x,y,z) for x in range(1,30) for y in range(x,30) for z in range(y,30) if x**2 + y**2 == z**2]"
      ],
      "execution_count": 11,
      "outputs": [
        {
          "output_type": "execute_result",
          "data": {
            "text/plain": [
              "[(3, 4, 5),\n",
              " (5, 12, 13),\n",
              " (6, 8, 10),\n",
              " (7, 24, 25),\n",
              " (8, 15, 17),\n",
              " (9, 12, 15),\n",
              " (10, 24, 26),\n",
              " (12, 16, 20),\n",
              " (15, 20, 25),\n",
              " (20, 21, 29)]"
            ]
          },
          "metadata": {
            "tags": []
          },
          "execution_count": 11
        }
      ]
    },
    {
      "cell_type": "markdown",
      "metadata": {
        "id": "9hwnpH6_EE6O",
        "colab_type": "text"
      },
      "source": [
        "### Functional programming- Lambda, Map, Reduce, Filter https://www.python-course.eu/python3_lambda.php\n",
        "A style of programming where functions can be passed to other functions to do stuff"
      ]
    },
    {
      "cell_type": "code",
      "metadata": {
        "id": "s7sV4v1VaPqM",
        "colab_type": "code",
        "colab": {
          "base_uri": "https://localhost:8080/",
          "height": 70
        },
        "outputId": "57b44994-0c3f-49ef-bbfe-6143b31a574f"
      },
      "source": [
        "# Conventional\n",
        "def filterfunc(x):\n",
        "    return x % 3 == 0\n",
        "mult3 = filter(filterfunc, [1, 2, 3, 4, 5, 6, 7, 8, 9])\n",
        "print(list(mult3))\n",
        "\n",
        "# Functional programming- lambda is best when used with another function like map, reduce, filter etc.\n",
        "# Filter takes 2 parameters- one is a function and the other parameter is the iterable object which is to be filtered using the function\n",
        "mult3 = filter(lambda x: x % 3 == 0, [1, 2, 3, 4, 5, 6, 7, 8, 9])\n",
        "print(list(mult3))\n",
        "\n",
        "# List comprehension\n",
        "mult3 = [x for x in [1, 2, 3, 4, 5, 6, 7, 8, 9] if x % 3 == 0]\n",
        "print(mult3)"
      ],
      "execution_count": 12,
      "outputs": [
        {
          "output_type": "stream",
          "text": [
            "[3, 6, 9]\n",
            "[3, 6, 9]\n",
            "[3, 6, 9]\n"
          ],
          "name": "stdout"
        }
      ]
    },
    {
      "cell_type": "code",
      "metadata": {
        "id": "RTzZCT-1Cy-K",
        "colab_type": "code",
        "colab": {
          "base_uri": "https://localhost:8080/",
          "height": 35
        },
        "outputId": "5c01b886-243c-4f0c-b06e-3a3b7182aa4a"
      },
      "source": [
        "# Try not to initialize lambda functions to variables, unless we plan to reuse the function\n",
        "sum = lambda x, y : x + y\n",
        "sum(3,4)"
      ],
      "execution_count": 13,
      "outputs": [
        {
          "output_type": "execute_result",
          "data": {
            "text/plain": [
              "7"
            ]
          },
          "metadata": {
            "tags": []
          },
          "execution_count": 13
        }
      ]
    },
    {
      "cell_type": "code",
      "metadata": {
        "id": "dAb2ayTnYSAZ",
        "colab_type": "code",
        "colab": {
          "base_uri": "https://localhost:8080/",
          "height": 35
        },
        "outputId": "b7738202-5a82-453a-d0f9-0360c1e9af84"
      },
      "source": [
        "# Better way\n",
        "(lambda x, y : x + y)(3,4)"
      ],
      "execution_count": 14,
      "outputs": [
        {
          "output_type": "execute_result",
          "data": {
            "text/plain": [
              "7"
            ]
          },
          "metadata": {
            "tags": []
          },
          "execution_count": 14
        }
      ]
    },
    {
      "cell_type": "code",
      "metadata": {
        "id": "j4QVTz21Qlni",
        "colab_type": "code",
        "colab": {}
      },
      "source": [
        "def fahrenheit(T):\n",
        "    return ((float(9)/5)*T + 32)\n",
        "\n",
        "temperatures = (36.5, 37, 37.5, 38, 39)\n",
        "\n",
        "temperatures_in_Fahrenheit = map(fahrenheit, temperatures)\n",
        "# print(list(temperatures_in_Fahrenheit))"
      ],
      "execution_count": 15,
      "outputs": []
    },
    {
      "cell_type": "code",
      "metadata": {
        "id": "0h2vOSb1QpjI",
        "colab_type": "code",
        "colab": {}
      },
      "source": [
        "# Map passes one element at a time to the lambda function which takes one argument at a time \n",
        "F = map(lambda x: (float(9)/5)*x + 32, temperatures )\n",
        "# print(list(F))"
      ],
      "execution_count": 16,
      "outputs": []
    },
    {
      "cell_type": "code",
      "metadata": {
        "id": "UO5pDpo9SJND",
        "colab_type": "code",
        "colab": {
          "base_uri": "https://localhost:8080/",
          "height": 35
        },
        "outputId": "db95438f-238f-492c-afeb-eb49f32ec460"
      },
      "source": [
        "# Here, lambda takes 2 arguments at a time. Reduce passes a pair of 2 each to lambda (the first value in the pair is returned by lambda function, second value is next element in list)\n",
        "from functools import reduce\n",
        "reduce(lambda x,y: x+y, [47,11,42,13])"
      ],
      "execution_count": 17,
      "outputs": [
        {
          "output_type": "execute_result",
          "data": {
            "text/plain": [
              "113"
            ]
          },
          "metadata": {
            "tags": []
          },
          "execution_count": 17
        }
      ]
    },
    {
      "cell_type": "code",
      "metadata": {
        "id": "KK04AwL3S_rx",
        "colab_type": "code",
        "colab": {
          "base_uri": "https://localhost:8080/",
          "height": 35
        },
        "outputId": "f01fd870-e6df-4ea7-98a8-71c9024e9788"
      },
      "source": [
        "from functools import reduce\n",
        "f = lambda a,b: a if (a > b) else b\n",
        "reduce(f, [47,11,42,102,13])"
      ],
      "execution_count": 18,
      "outputs": [
        {
          "output_type": "execute_result",
          "data": {
            "text/plain": [
              "102"
            ]
          },
          "metadata": {
            "tags": []
          },
          "execution_count": 18
        }
      ]
    },
    {
      "cell_type": "markdown",
      "metadata": {
        "id": "FUKKm8b_cE6x",
        "colab_type": "text"
      },
      "source": [
        "Speed: It is better to use list comprehensions if it requires to write a function (or lambda) to use map or reduce, inorder to carry out the same operation. But if the function is already defined, map has an edge at times. List comprehension can perform better than map where expressions are too long and complex.\n",
        "\n",
        "Memory usage: List comprehensions tend to be memory intensive, hence if working on a memory-intensive operation, map might be better.\n",
        "\n",
        "Easier to read: List comprehension wins hands down"
      ]
    }
  ]
}