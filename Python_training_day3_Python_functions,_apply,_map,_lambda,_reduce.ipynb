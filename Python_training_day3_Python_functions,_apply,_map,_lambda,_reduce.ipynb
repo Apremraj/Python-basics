{
  "nbformat": 4,
  "nbformat_minor": 0,
  "metadata": {
    "colab": {
      "name": "Python training day3- Python functions, apply, map, lambda, reduce",
      "provenance": [],
      "collapsed_sections": [],
      "authorship_tag": "ABX9TyOV3T2qroa7WI3fUgjcm+aF",
      "include_colab_link": true
    },
    "kernelspec": {
      "name": "python3",
      "display_name": "Python 3"
    }
  },
  "cells": [
    {
      "cell_type": "markdown",
      "metadata": {
        "id": "view-in-github",
        "colab_type": "text"
      },
      "source": [
        "<a href=\"https://colab.research.google.com/github/just-joseph/Python-basics/blob/master/Python_training_day3_Python_functions%2C_apply%2C_map%2C_lambda%2C_reduce.ipynb\" target=\"_parent\"><img src=\"https://colab.research.google.com/assets/colab-badge.svg\" alt=\"Open In Colab\"/></a>"
      ]
    },
    {
      "cell_type": "code",
      "metadata": {
        "id": "l65T2cLyz1H6",
        "colab_type": "code",
        "colab": {
          "base_uri": "https://localhost:8080/",
          "height": 35
        },
        "outputId": "5236c1dc-76f4-4b8f-cd54-3a57fd3c67eb"
      },
      "source": [
        "# No return datatype, no parameter datatype, just the 'def' keyword, function name and parameters.\n",
        "def my_first_function():\n",
        "    print('Hello world!')\n",
        "\n",
        "# Calling a function\n",
        "my_first_function()"
      ],
      "execution_count": null,
      "outputs": [
        {
          "output_type": "stream",
          "text": [
            "Hello world!\n"
          ],
          "name": "stdout"
        }
      ]
    },
    {
      "cell_type": "code",
      "metadata": {
        "id": "pp-bpiPOz4_N",
        "colab_type": "code",
        "colab": {
          "base_uri": "https://localhost:8080/",
          "height": 35
        },
        "outputId": "28147a26-76d5-477e-fabd-3987027d3d4c"
      },
      "source": [
        "print(type(my_first_function))"
      ],
      "execution_count": null,
      "outputs": [
        {
          "output_type": "stream",
          "text": [
            "<class 'function'>\n"
          ],
          "name": "stdout"
        }
      ]
    },
    {
      "cell_type": "code",
      "metadata": {
        "id": "SjAYVoMx0EQ2",
        "colab_type": "code",
        "colab": {
          "base_uri": "https://localhost:8080/",
          "height": 35
        },
        "outputId": "81619e3a-3bfb-42cf-eb28-c13bdca8f697"
      },
      "source": [
        "# Passing parameters to function\n",
        "def func2(name1, name2):\n",
        "    print(name1+ ' vs '+ name2)\n",
        "\n",
        "func2('Batman', 'Superman')"
      ],
      "execution_count": null,
      "outputs": [
        {
          "output_type": "stream",
          "text": [
            "Batman vs Superman\n"
          ],
          "name": "stdout"
        }
      ]
    },
    {
      "cell_type": "code",
      "metadata": {
        "id": "jfCCRdKX0Hri",
        "colab_type": "code",
        "colab": {
          "base_uri": "https://localhost:8080/",
          "height": 35
        },
        "outputId": "92111d26-01dd-467f-fbc8-d9dff79ef15f"
      },
      "source": [
        "def func3(name1, name2):\n",
        "    return (name1.strip().lower()+ ' vs '+ name2)\n",
        "    print(5) # This wont be executed\n",
        "\n",
        "output= func3('BatmaN   ', 'Superman')\n",
        "print(output)"
      ],
      "execution_count": null,
      "outputs": [
        {
          "output_type": "stream",
          "text": [
            "batman vs Superman\n"
          ],
          "name": "stdout"
        }
      ]
    },
    {
      "cell_type": "markdown",
      "metadata": {
        "id": "YJr5Lbdf0UKo",
        "colab_type": "text"
      },
      "source": [
        "Keyword arguments"
      ]
    },
    {
      "cell_type": "code",
      "metadata": {
        "id": "s8l5QZAJ0LYT",
        "colab_type": "code",
        "colab": {}
      },
      "source": [
        "def my_fancy_calculation(first, second, third):\n",
        "    return first + second - third "
      ],
      "execution_count": null,
      "outputs": []
    },
    {
      "cell_type": "code",
      "metadata": {
        "id": "OBmhiO_a0Oh6",
        "colab_type": "code",
        "colab": {
          "base_uri": "https://localhost:8080/",
          "height": 35
        },
        "outputId": "53921a17-c865-432e-bfa1-a02d0862da83"
      },
      "source": [
        "# Without specifying parameter variables, it goes by natural order. i.e. first takes 3, second takes 2 and third takes 1\n",
        "print(my_fancy_calculation(3, 2, 1))"
      ],
      "execution_count": null,
      "outputs": [
        {
          "output_type": "stream",
          "text": [
            "4\n"
          ],
          "name": "stdout"
        }
      ]
    },
    {
      "cell_type": "code",
      "metadata": {
        "id": "ObzZEP7I0SEx",
        "colab_type": "code",
        "colab": {
          "base_uri": "https://localhost:8080/",
          "height": 35
        },
        "outputId": "8fc9f1f9-73d7-43d7-a292-06be2d7e27c9"
      },
      "source": [
        "# specifying argument by keyword. Avoids confusion\n",
        "print(my_fancy_calculation(first=3, second=2, third=1))"
      ],
      "execution_count": null,
      "outputs": [
        {
          "output_type": "stream",
          "text": [
            "4\n"
          ],
          "name": "stdout"
        }
      ]
    },
    {
      "cell_type": "code",
      "metadata": {
        "id": "4rP2ohcQ0g3n",
        "colab_type": "code",
        "colab": {
          "base_uri": "https://localhost:8080/",
          "height": 35
        },
        "outputId": "9a761700-6522-48f6-f429-dc9c7bd0950b"
      },
      "source": [
        "# With keyword arguments you can mix the order\n",
        "print(my_fancy_calculation(third=1, first=3, second=2))"
      ],
      "execution_count": null,
      "outputs": [
        {
          "output_type": "stream",
          "text": [
            "4\n"
          ],
          "name": "stdout"
        }
      ]
    },
    {
      "cell_type": "code",
      "metadata": {
        "id": "GI64kF2A0h-W",
        "colab_type": "code",
        "colab": {
          "base_uri": "https://localhost:8080/",
          "height": 185
        },
        "outputId": "c5382595-b4da-4ba5-e390-a24182173290"
      },
      "source": [
        "# You can mix arguments and keyword arguments but you have to start with keyword arguments\n",
        "print(my_fancy_calculation(3, first=1, second=2))"
      ],
      "execution_count": null,
      "outputs": [
        {
          "output_type": "error",
          "ename": "TypeError",
          "evalue": "ignored",
          "traceback": [
            "\u001b[0;31m---------------------------------------------------------------------------\u001b[0m",
            "\u001b[0;31mTypeError\u001b[0m                                 Traceback (most recent call last)",
            "\u001b[0;32m<ipython-input-23-26ccd4b1b34e>\u001b[0m in \u001b[0;36m<module>\u001b[0;34m()\u001b[0m\n\u001b[1;32m      1\u001b[0m \u001b[0;31m# You can mix arguments and keyword arguments but you have to start with keyword arguments\u001b[0m\u001b[0;34m\u001b[0m\u001b[0;34m\u001b[0m\u001b[0;34m\u001b[0m\u001b[0m\n\u001b[0;32m----> 2\u001b[0;31m \u001b[0mprint\u001b[0m\u001b[0;34m(\u001b[0m\u001b[0mmy_fancy_calculation\u001b[0m\u001b[0;34m(\u001b[0m\u001b[0;36m3\u001b[0m\u001b[0;34m,\u001b[0m \u001b[0mfirst\u001b[0m\u001b[0;34m=\u001b[0m\u001b[0;36m1\u001b[0m\u001b[0;34m,\u001b[0m \u001b[0msecond\u001b[0m\u001b[0;34m=\u001b[0m\u001b[0;36m2\u001b[0m\u001b[0;34m)\u001b[0m\u001b[0;34m)\u001b[0m\u001b[0;34m\u001b[0m\u001b[0;34m\u001b[0m\u001b[0m\n\u001b[0m",
            "\u001b[0;31mTypeError\u001b[0m: my_fancy_calculation() got multiple values for argument 'first'"
          ]
        }
      ]
    },
    {
      "cell_type": "markdown",
      "metadata": {
        "id": "opeIl4Eh06Kz",
        "colab_type": "text"
      },
      "source": [
        "### Default arguments"
      ]
    },
    {
      "cell_type": "code",
      "metadata": {
        "id": "I5y_vxf80r-w",
        "colab_type": "code",
        "colab": {
          "base_uri": "https://localhost:8080/",
          "height": 52
        },
        "outputId": "5079e1df-5710-4c42-8e1d-94dbe45183a0"
      },
      "source": [
        "def create_person_info(name, age, job=None, salary=300):\n",
        "    info = {'name': name, 'age': age, 'salary': salary}\n",
        "    \n",
        "    # Add 'job' key only if it's provided as parameter\n",
        "    if job:  \n",
        "        info.update(dict(job=job))\n",
        "        \n",
        "    return info\n",
        "\n",
        "person1 = create_person_info('John Doe', 82)  # use default values for job and salary\n",
        "person2 = create_person_info('Lisa Doe', 22, 'hacker', 10000)\n",
        "print(person1)\n",
        "print(person2)"
      ],
      "execution_count": null,
      "outputs": [
        {
          "output_type": "stream",
          "text": [
            "{'name': 'John Doe', 'age': 82, 'salary': 300}\n",
            "{'name': 'Lisa Doe', 'age': 22, 'salary': 10000, 'job': 'hacker'}\n"
          ],
          "name": "stdout"
        }
      ]
    },
    {
      "cell_type": "markdown",
      "metadata": {
        "id": "8tsLFLAW1FeN",
        "colab_type": "text"
      },
      "source": [
        "Don't use mutable objects as default arguments! Python’s default arguments are evaluated once when the function is defined, not each time the function is called. This means that if you use a mutable default argument and mutate it, you will have mutated that object for all future calls to the function as well."
      ]
    },
    {
      "cell_type": "code",
      "metadata": {
        "id": "XpwP6k3108r9",
        "colab_type": "code",
        "colab": {
          "base_uri": "https://localhost:8080/",
          "height": 106
        },
        "outputId": "8dead603-922d-4aba-fb1a-5d89e32b745b"
      },
      "source": [
        "def append_if_multiple_of_five(number, magical_list=[]):\n",
        "    if number % 5 == 0:\n",
        "        magical_list.append(number)\n",
        "    return magical_list\n",
        "\n",
        "print(append_if_multiple_of_five(100))\n",
        "print(append_if_multiple_of_five(105))\n",
        "print(append_if_multiple_of_five(123))\n",
        "print(append_if_multiple_of_five(123, []))\n",
        "# print(append_if_multiple_of_five(125, [103]))\n",
        "print(append_if_multiple_of_five(123))"
      ],
      "execution_count": null,
      "outputs": [
        {
          "output_type": "stream",
          "text": [
            "[100]\n",
            "[100, 105]\n",
            "[100, 105]\n",
            "[]\n",
            "[100, 105]\n"
          ],
          "name": "stdout"
        }
      ]
    },
    {
      "cell_type": "code",
      "metadata": {
        "id": "D_XUMtEY1NKa",
        "colab_type": "code",
        "colab": {
          "base_uri": "https://localhost:8080/",
          "height": 106
        },
        "outputId": "e9346dcb-a01b-4717-98e4-cf3817b5bbcb"
      },
      "source": [
        "def append_if_multiple_of_five(number, magical_list=None):\n",
        "    if not magical_list:\n",
        "        magical_list = []\n",
        "    if number % 5 == 0:\n",
        "        magical_list.append(number)\n",
        "    return magical_list\n",
        "\n",
        "print(append_if_multiple_of_five(100))\n",
        "print(append_if_multiple_of_five(105))\n",
        "print(append_if_multiple_of_five(123))\n",
        "print(append_if_multiple_of_five(123, []))\n",
        "# print(append_if_multiple_of_five(125, [103]))\n",
        "print(append_if_multiple_of_five(123))"
      ],
      "execution_count": null,
      "outputs": [
        {
          "output_type": "stream",
          "text": [
            "[100]\n",
            "[105]\n",
            "[]\n",
            "[]\n",
            "[]\n"
          ],
          "name": "stdout"
        }
      ]
    },
    {
      "cell_type": "markdown",
      "metadata": {
        "id": "ax_xQcxSCrng",
        "colab_type": "text"
      },
      "source": [
        "### List comprehension"
      ]
    },
    {
      "cell_type": "code",
      "metadata": {
        "id": "MS2SLxBU1O0v",
        "colab_type": "code",
        "colab": {
          "base_uri": "https://localhost:8080/",
          "height": 35
        },
        "outputId": "367d256e-8882-49bd-c148-025f5d84cc3f"
      },
      "source": [
        "Celsius = [39.2, 36.5, 37.3, 37.8]\n",
        "Fahrenheit = [ ((float(9)/5)*x + 32) for x in Celsius ]\n",
        "print(Fahrenheit)"
      ],
      "execution_count": null,
      "outputs": [
        {
          "output_type": "stream",
          "text": [
            "[102.56, 97.7, 99.14, 100.03999999999999]\n"
          ],
          "name": "stdout"
        }
      ]
    },
    {
      "cell_type": "code",
      "metadata": {
        "id": "FXgGrsEzCuqC",
        "colab_type": "code",
        "colab": {
          "base_uri": "https://localhost:8080/",
          "height": 195
        },
        "outputId": "25cc42bf-a756-4669-e391-76751f09d211"
      },
      "source": [
        "[(x,y,z) for x in range(1,30) for y in range(x,30) for z in range(y,30) if x**2 + y**2 == z**2]"
      ],
      "execution_count": null,
      "outputs": [
        {
          "output_type": "execute_result",
          "data": {
            "text/plain": [
              "[(3, 4, 5),\n",
              " (5, 12, 13),\n",
              " (6, 8, 10),\n",
              " (7, 24, 25),\n",
              " (8, 15, 17),\n",
              " (9, 12, 15),\n",
              " (10, 24, 26),\n",
              " (12, 16, 20),\n",
              " (15, 20, 25),\n",
              " (20, 21, 29)]"
            ]
          },
          "metadata": {
            "tags": []
          },
          "execution_count": 28
        }
      ]
    },
    {
      "cell_type": "markdown",
      "metadata": {
        "id": "9hwnpH6_EE6O",
        "colab_type": "text"
      },
      "source": [
        "### Lambda, Map, Reduce https://www.python-course.eu/python3_lambda.php"
      ]
    },
    {
      "cell_type": "code",
      "metadata": {
        "id": "RTzZCT-1Cy-K",
        "colab_type": "code",
        "colab": {
          "base_uri": "https://localhost:8080/",
          "height": 35
        },
        "outputId": "58ab7bf5-00f7-40b9-dfe5-ca8a514b6a88"
      },
      "source": [
        "sum = lambda x, y : x + y\n",
        "sum(3,4)"
      ],
      "execution_count": 50,
      "outputs": [
        {
          "output_type": "execute_result",
          "data": {
            "text/plain": [
              "7"
            ]
          },
          "metadata": {
            "tags": []
          },
          "execution_count": 50
        }
      ]
    },
    {
      "cell_type": "code",
      "metadata": {
        "id": "PSWy7X5-EJ43",
        "colab_type": "code",
        "colab": {
          "base_uri": "https://localhost:8080/",
          "height": 35
        },
        "outputId": "8853dcd9-7b7f-404f-f8f8-99de16f7a0bf"
      },
      "source": [
        "def sum(x,y):\n",
        "    return x + y\n",
        "\n",
        "sum(3,4)"
      ],
      "execution_count": 32,
      "outputs": [
        {
          "output_type": "execute_result",
          "data": {
            "text/plain": [
              "7"
            ]
          },
          "metadata": {
            "tags": []
          },
          "execution_count": 32
        }
      ]
    },
    {
      "cell_type": "code",
      "metadata": {
        "id": "j4QVTz21Qlni",
        "colab_type": "code",
        "colab": {
          "base_uri": "https://localhost:8080/",
          "height": 35
        },
        "outputId": "9b828ad2-7a9a-41c8-fcc2-b155c9ed9db1"
      },
      "source": [
        "def fahrenheit(T):\n",
        "    return ((float(9)/5)*T + 32)\n",
        "\n",
        "temperatures = (36.5, 37, 37.5, 38, 39)\n",
        "\n",
        "temperatures_in_Fahrenheit = list(map(fahrenheit, temperatures))\n",
        "print(temperatures_in_Fahrenheit)"
      ],
      "execution_count": 40,
      "outputs": [
        {
          "output_type": "stream",
          "text": [
            "[97.7, 98.60000000000001, 99.5, 100.4, 102.2]\n"
          ],
          "name": "stdout"
        }
      ]
    },
    {
      "cell_type": "code",
      "metadata": {
        "id": "0h2vOSb1QpjI",
        "colab_type": "code",
        "colab": {
          "base_uri": "https://localhost:8080/",
          "height": 35
        },
        "outputId": "b41de046-8b3c-4a01-f758-a21016824321"
      },
      "source": [
        "# Map passes one element at a time to the lambda function which takes one argument at a time\n",
        "C = [39.2, 36.5, 37.3, 38, 37.8] \n",
        "F = list(map(lambda x: (float(9)/5)*x + 32, temperatures ))\n",
        "print(F)"
      ],
      "execution_count": 41,
      "outputs": [
        {
          "output_type": "stream",
          "text": [
            "[97.7, 98.60000000000001, 99.5, 100.4, 102.2]\n"
          ],
          "name": "stdout"
        }
      ]
    },
    {
      "cell_type": "code",
      "metadata": {
        "id": "UO5pDpo9SJND",
        "colab_type": "code",
        "colab": {
          "base_uri": "https://localhost:8080/",
          "height": 35
        },
        "outputId": "05a80753-6305-43bc-9b9b-1821410639d8"
      },
      "source": [
        "# Here, lambda takes 2 arguments at a time. Reduce passes a pair of 2 each to lambda (the first value in the pair is returned by lambda function, second value is next element in list)\n",
        "from functools import reduce\n",
        "reduce(lambda x,y: x+y, [47,11,42,13])"
      ],
      "execution_count": 44,
      "outputs": [
        {
          "output_type": "execute_result",
          "data": {
            "text/plain": [
              "113"
            ]
          },
          "metadata": {
            "tags": []
          },
          "execution_count": 44
        }
      ]
    },
    {
      "cell_type": "code",
      "metadata": {
        "id": "KK04AwL3S_rx",
        "colab_type": "code",
        "colab": {
          "base_uri": "https://localhost:8080/",
          "height": 35
        },
        "outputId": "1ff850ed-5bd6-40f9-8973-8939e4c5dfaf"
      },
      "source": [
        "from functools import reduce\n",
        "f = lambda a,b: a if (a > b) else b\n",
        "reduce(f, [47,11,42,102,13])"
      ],
      "execution_count": 55,
      "outputs": [
        {
          "output_type": "execute_result",
          "data": {
            "text/plain": [
              "102"
            ]
          },
          "metadata": {
            "tags": []
          },
          "execution_count": 55
        }
      ]
    },
    {
      "cell_type": "code",
      "metadata": {
        "id": "mnUeJCGpV6hp",
        "colab_type": "code",
        "colab": {
          "base_uri": "https://localhost:8080/",
          "height": 35
        },
        "outputId": "e7ee66e9-4d92-4495-af83-6ce4be9c28f8"
      },
      "source": [
        "# Lambda functions can be used without map or reduce\n",
        "f(5,10)"
      ],
      "execution_count": 56,
      "outputs": [
        {
          "output_type": "execute_result",
          "data": {
            "text/plain": [
              "10"
            ]
          },
          "metadata": {
            "tags": []
          },
          "execution_count": 56
        }
      ]
    },
    {
      "cell_type": "code",
      "metadata": {
        "id": "oEbx4ZclWya_",
        "colab_type": "code",
        "colab": {}
      },
      "source": [
        ""
      ],
      "execution_count": null,
      "outputs": []
    }
  ]
}